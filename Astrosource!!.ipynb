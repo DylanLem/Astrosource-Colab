{
  "cells": [
    {
      "cell_type": "markdown",
      "metadata": {
        "id": "view-in-github",
        "colab_type": "text"
      },
      "source": [
        "<a href=\"https://colab.research.google.com/github/DylanLem/Astrosource-Colab/blob/main/Astrosource!!.ipynb\" target=\"_parent\"><img src=\"https://colab.research.google.com/assets/colab-badge.svg\" alt=\"Open In Colab\"/></a>"
      ]
    },
    {
      "cell_type": "markdown",
      "source": [
        "##Run this cell whenever you start your session\n",
        " (or if you get weird errors about missing packages)"
      ],
      "metadata": {
        "id": "Y7KhxZn_mBxi"
      }
    },
    {
      "cell_type": "code",
      "execution_count": null,
      "metadata": {
        "id": "D4S1umVMWKiR",
        "colab": {
          "base_uri": "https://localhost:8080/"
        },
        "outputId": "5f13a9db-1bd2-4d3c-e5ce-b1a0d32ec8f4"
      },
      "outputs": [
        {
          "output_type": "stream",
          "name": "stdout",
          "text": [
            "  Running command git clone -q https://github.com/zemogle/astrosource.git /tmp/pip-req-build-3s40haal\n",
            "  Running command git checkout -b dev --track origin/dev\n",
            "  Switched to a new branch 'dev'\n",
            "  Branch 'dev' set up to track remote branch 'dev' from 'origin'.\n",
            "***finished downloading packages. u can continue to the next section***\n"
          ]
        }
      ],
      "source": [
        "#!pip install --upgrade certifi\n",
        "\n",
        "#import certifi\n",
        "#path = certifi.where()\n",
        "#!curl -o {path} https://curl.se/ca/cacert.pem\n",
        "\n",
        "!pip install git+https://github.com/zemogle/astrosource.git@dev  > ../dev/null\n",
        "#!python ../usr/local/lib/python3.7/dist-packages/requests/certs.py \n",
        "\n",
        "#!ln -s ../etc/ssl/* /Library/Frameworks/Python.framework/Versions/3.9/etc/openssl\n",
        "\n",
        "print(\"***finished downloading packages. u can continue to the next section***\")\n"
      ]
    },
    {
      "cell_type": "markdown",
      "source": [
        "###Choose single filter if you just wanna do one batch\n",
        " (zs, ip, etc. on their own)"
      ],
      "metadata": {
        "id": "Q2OfeLWPl7wM"
      }
    },
    {
      "cell_type": "markdown",
      "source": [],
      "metadata": {
        "id": "kVi3ZhX1vnTo"
      }
    },
    {
      "cell_type": "markdown",
      "source": [
        "##Single Filter:"
      ],
      "metadata": {
        "id": "XUhNyuCtQ1Xk"
      }
    },
    {
      "cell_type": "markdown",
      "source": [
        "run this first and change your options if you'd like"
      ],
      "metadata": {
        "id": "LoX5dV3gvl5Y"
      }
    },
    {
      "cell_type": "code",
      "source": [
        "ra = 64.3216247\n",
        "dec = 47.4001343\n",
        "\n",
        "format = \"Change me!\"\n",
        "\n",
        "periodlower = 0.05\n",
        "periodupper = 1.0\n",
        "periodtests = 100 "
      ],
      "metadata": {
        "id": "0HB-i1SrSr7R"
      },
      "execution_count": null,
      "outputs": []
    },
    {
      "cell_type": "code",
      "execution_count": null,
      "metadata": {
        "id": "uVu7ygnGYOLg"
      },
      "outputs": [],
      "source": [
        "from google.colab import files\n",
        "\n",
        "\"\"\" dont worry about this stuff\n",
        "import socket\n",
        "from urllib3.connection import HTTPConnection\n",
        "\n",
        "HTTPConnection.default_socket_options = (\n",
        "    HTTPConnection.default_socket_options + [\n",
        "        (socket.SOL_SOCKET, socket.SO_KEEPALIVE, 1),\n",
        "        (socket.SOL_TCP, socket.TCP_KEEPIDLE, 45),\n",
        "        (socket.SOL_TCP, socket.TCP_KEEPINTVL, 10),\n",
        "        (socket.SOL_TCP, socket.TCP_KEEPCNT, 6)\n",
        "    ]\n",
        ")\n",
        "\"\"\"\n",
        "\n",
        "#we call this at the start to wipe the entire directory\n",
        "!rm -r ./*\n",
        "\n",
        "uploaded = files.upload()\n",
        "newdir = list(uploaded.keys())[0].split(\".\")[0] \n",
        "\n",
        "!mkdir -p {newdir}\n",
        "!unzip -u {list(uploaded.keys())[0]} > ../dev/null\n",
        "  \n",
        "!astrosource --ra {ra} --dec {dec} --calib --full --period --periodlower {periodlower} --periodupper {periodupper} --periodtests {periodtests} --format {format} --indir {newdir} \n",
        "\n",
        "!zip output.zip {newdir}/calibcats/* {newdir}/checkplots/* {newdir}/colourplots/* {newdir}/outputcats/* {newdir}/outputplots/* {newdir}/periods/* {newdir}/results/*  > ../dev/null\n",
        "\n",
        "files.download('output.zip')\n"
      ]
    },
    {
      "cell_type": "markdown",
      "source": [
        "##Batch computation (multiple filters):"
      ],
      "metadata": {
        "id": "dsmiyZBYQ-rr"
      }
    },
    {
      "cell_type": "markdown",
      "source": [
        "run this first and change your options if you'd like"
      ],
      "metadata": {
        "id": "6wUxwpKPvsZ3"
      }
    },
    {
      "cell_type": "code",
      "source": [
        "ra = 64.3216247\n",
        "dec = 47.4001343\n",
        "\n",
        "format = \"Change me!\"\n",
        "\n",
        "periodlower = 0.05\n",
        "periodupper = 1.0\n",
        "periodtests = 100 "
      ],
      "metadata": {
        "id": "vSBUNcOFuNDZ"
      },
      "execution_count": null,
      "outputs": []
    },
    {
      "cell_type": "code",
      "source": [
        "\n",
        "from google.colab import files\n",
        "import os\n",
        "\n",
        "\n",
        "!rm -r ./*\n",
        "\n",
        "uploaded = files.upload()\n",
        "\n",
        "\n",
        "!unzip -u {list(uploaded.keys())[0]} -x \"__MACOSX/*\"  > ../dev/null\n",
        "\n",
        "\n",
        "#sanitizing the directory for python purposes\n",
        "!rm -r {list(uploaded.keys())[0]} .config > ../dev/null\n",
        "\n",
        "newdir = os.listdir(\"./\")[0]\n",
        "dirs = os.listdir(newdir)\n",
        "\n",
        "\n",
        "print(dirs)\n",
        "\n",
        "\n",
        "#holds the names of our individual output files. Used to make the final download easier for the user\n",
        "zips = []\n",
        "\n",
        "#now we iterate for each one we've found\n",
        "for dir in dirs:\n",
        "  print(\"**** RUNNING ASTROSOURCE ON FILTER: {}\\n\\n\".format(dir))\n",
        "\n",
        "  !astrosource --ra {ra} --dec {dec} --calib --full --period --periodlower {periodlower} --periodupper {periodupper} --periodtests {periodtests} --format {format} --indir \"{newdir}/{dir}\" \n",
        "\n",
        "  !zip \"output_{dir}\" \"{newdir}/{dir}\"/calibcats/* \"{newdir}/{dir}\"/checkplots/* \"{newdir}/{dir}\"/colourplots/* \"{newdir}/{dir}\"/outputcats/* \"{newdir}/{dir}\"/outputplots/* \"{newdir}/{dir}\"/periods/* \"{newdir}/{dir}\"/results/*  > ../dev/null\n",
        "  zips.append(\"output_{}.zip\".format(dir))\n",
        "\n",
        "\n",
        "!zip \"output_{newdir}\".zip {\" \".join(zips)}\n",
        "\n",
        "files.download('output_{}.zip'.format(newdir))"
      ],
      "metadata": {
        "id": "2kovv9gkfVir"
      },
      "execution_count": null,
      "outputs": []
    }
  ],
  "metadata": {
    "colab": {
      "collapsed_sections": [
        "Y7KhxZn_mBxi",
        "XUhNyuCtQ1Xk"
      ],
      "provenance": [],
      "authorship_tag": "ABX9TyPtm/494vQhu767Adil/8JI",
      "include_colab_link": true
    },
    "kernelspec": {
      "display_name": "Python 3",
      "name": "python3"
    },
    "language_info": {
      "name": "python"
    }
  },
  "nbformat": 4,
  "nbformat_minor": 0
}